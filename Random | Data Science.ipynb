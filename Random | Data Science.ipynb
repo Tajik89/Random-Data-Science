{
 "cells": [
  {
   "cell_type": "code",
   "execution_count": 2,
   "id": "1ec999ba-1811-4850-9a6d-ac67578fcde2",
   "metadata": {},
   "outputs": [],
   "source": [
    "import pandas as pd"
   ]
  },
  {
   "cell_type": "code",
   "execution_count": 3,
   "id": "d1675732-82c1-4812-9ce8-2a7a9262f34d",
   "metadata": {},
   "outputs": [],
   "source": [
    "import numpy as np\n",
    "import random as rd\n",
    "import matplotlib.pyplot as plt"
   ]
  },
  {
   "cell_type": "code",
   "execution_count": 1,
   "id": "808be87d-6614-4e88-84b3-f41e6502bf28",
   "metadata": {},
   "outputs": [],
   "source": [
    "# import libery"
   ]
  },
  {
   "cell_type": "code",
   "execution_count": 4,
   "id": "0942a659-2be8-4dba-bf95-ae89d82726dc",
   "metadata": {},
   "outputs": [],
   "source": [
    "def randnum(file_name) :\n",
    "    nums = rd.randint(10**14, 2*(10**14))\n",
    "    with open(file_name, 'w') as f :\n",
    "        f.write(str(nums))"
   ]
  },
  {
   "cell_type": "code",
   "execution_count": 2,
   "id": "8041a9cb-7db0-4a13-9755-9bbc2f794570",
   "metadata": {},
   "outputs": [],
   "source": [
    "# make _txt file with 15 num in it"
   ]
  },
  {
   "cell_type": "code",
   "execution_count": 5,
   "id": "08037353-20cb-47b6-96c5-1d7fc12ce259",
   "metadata": {},
   "outputs": [],
   "source": [
    "def num2array(file_name) :\n",
    "    with open(file_name, 'r') as f :\n",
    "        data = f.read()\n",
    "        lst_data = list(data)\n",
    "        array_data = np.array(lst_data)\n",
    "        array_reshaped = array_data.reshape(3, 5)\n",
    "        return array_reshaped"
   ]
  },
  {
   "cell_type": "code",
   "execution_count": 3,
   "id": "988adcaa-484a-43c1-981d-89bf093e1ee4",
   "metadata": {},
   "outputs": [],
   "source": [
    "# make (3, 5) array with random numbers in _txt file"
   ]
  },
  {
   "cell_type": "code",
   "execution_count": 6,
   "id": "6d8b609d-4ff0-42d7-926c-8d40dbf2dc9a",
   "metadata": {},
   "outputs": [],
   "source": [
    "def array2pand(array_data) :\n",
    "    frame_data = pd.DataFrame(array_data, index= ['Day 1', 'Day 2', 'Day 3']\n",
    "                              , columns= ['Shape 1', 'Shape 2', 'Shape 3', 'Shape 4', 'Shape 5'])\n",
    "    return frame_data"
   ]
  },
  {
   "cell_type": "code",
   "execution_count": 4,
   "id": "b2af5d82-87e4-4f48-9ae5-f0bf4ee74c78",
   "metadata": {},
   "outputs": [],
   "source": [
    "# make pandas Data Frame with Array with index & colmuns"
   ]
  },
  {
   "cell_type": "code",
   "execution_count": 7,
   "id": "676158db-7471-49e2-a22f-db01c87ebd6f",
   "metadata": {},
   "outputs": [],
   "source": [
    "def sum_shape(frame_data) :\n",
    "    shape_1, shape_2, shape_3 = 0, 0, 0\n",
    "    for i in frame_data :\n",
    "        su = 0\n",
    "        for j in frame_data[i] :\n",
    "            su +=  float(j)\n",
    "        su = int(su)\n",
    "        if i == 'Shape 1' :\n",
    "            shape_1 = su\n",
    "        elif i == 'Shape 2' :\n",
    "            shape_2 = su\n",
    "        else :\n",
    "            shape_3 = su\n",
    "    return shape_1 , shape_2, shape_3"
   ]
  },
  {
   "cell_type": "code",
   "execution_count": 5,
   "id": "30bca736-8ec5-4f12-9ff8-c4f0b42ec5e6",
   "metadata": {},
   "outputs": [],
   "source": [
    "# get sum of number in Data Frame"
   ]
  },
  {
   "cell_type": "code",
   "execution_count": 39,
   "id": "d3cb1a1e-5f17-4dbd-a5ce-09e8bea2a68c",
   "metadata": {},
   "outputs": [],
   "source": [
    "def avg_shape(frame_data) :\n",
    "    shape_1, shape_2, shape_3 = 0, 0, 0\n",
    "    for i in frame_data :\n",
    "        su = 0\n",
    "        co = 0\n",
    "        avg = 0\n",
    "        for j in frame_data[i] :\n",
    "            su += float(j)\n",
    "            co += 1\n",
    "        su = int(su)\n",
    "        avg = su / co\n",
    "        if i == 'Shape 1' :\n",
    "            shape_1 = avg\n",
    "        elif i == 'Shape 2' :\n",
    "            shape_2 = avg\n",
    "        else :\n",
    "            shape_3 = avg\n",
    "    return shape_1 , shape_2, shape_3"
   ]
  },
  {
   "cell_type": "code",
   "execution_count": 6,
   "id": "75504e34-0dba-4c4d-a525-886c414f72e0",
   "metadata": {},
   "outputs": [],
   "source": [
    "# get Avg of number in Data Frame"
   ]
  },
  {
   "cell_type": "code",
   "execution_count": 40,
   "id": "f691a33c-18db-419c-80f8-23b739fb4c69",
   "metadata": {},
   "outputs": [],
   "source": [
    "def plot_sum(shape_1, shape_2, shape_3) :\n",
    "    data_lst = [shape_1, shape_2, shape_3]\n",
    "    name_lst = ['Shape 1', 'Shape 2', 'Shape 3']\n",
    "    plt.figure(figsize= (3, 2))\n",
    "    plt.title('Sum of Shapes')\n",
    "    plt.bar(name_lst, data_lst, color= 'red')"
   ]
  },
  {
   "cell_type": "code",
   "execution_count": 7,
   "id": "f835153e-77cd-4c58-bbfb-3b86b1c46802",
   "metadata": {},
   "outputs": [],
   "source": [
    "# make plot with matplotlib from sum of number"
   ]
  },
  {
   "cell_type": "code",
   "execution_count": 41,
   "id": "059156bd-b3cb-4a92-933a-e283f5a155ed",
   "metadata": {},
   "outputs": [],
   "source": [
    "def plot_avg(shape_1, shape_2, shape_3) :\n",
    "    data_lst = [shape_1, shape_2, shape_3]\n",
    "    name_lst = ['Shape 1', 'Shape 2', 'Shape 3']\n",
    "    plt.figure(figsize= (3, 2))\n",
    "    plt.title('Avg of Shapes')\n",
    "    plt.bar(name_lst, data_lst, color= 'g')"
   ]
  },
  {
   "cell_type": "code",
   "execution_count": 8,
   "id": "8ebdd9bd-50fe-420f-83ee-370856472279",
   "metadata": {},
   "outputs": [],
   "source": [
    "# make pl .... from avg of number"
   ]
  },
  {
   "cell_type": "code",
   "execution_count": 42,
   "id": "ecd678c0-5254-421e-8dab-0deeb3ae4752",
   "metadata": {},
   "outputs": [],
   "source": [
    "#"
   ]
  },
  {
   "cell_type": "code",
   "execution_count": null,
   "id": "c908be39-9581-4ccd-b41b-d2f3bae0dc10",
   "metadata": {},
   "outputs": [],
   "source": [
    "# <-- Use Fanc -->"
   ]
  },
  {
   "cell_type": "code",
   "execution_count": 43,
   "id": "b9bc07d9-41a4-40e1-98dc-21429edcf004",
   "metadata": {},
   "outputs": [],
   "source": [
    "randnum('data.txt')"
   ]
  },
  {
   "cell_type": "code",
   "execution_count": 44,
   "id": "aa6d4932-96a4-478c-a318-1a9426a50f40",
   "metadata": {},
   "outputs": [],
   "source": [
    "array = num2array('data.txt')"
   ]
  },
  {
   "cell_type": "code",
   "execution_count": 45,
   "id": "7fa0bf29-acc0-4ece-9c17-22d4c8ab9c28",
   "metadata": {},
   "outputs": [
    {
     "name": "stdout",
     "output_type": "stream",
     "text": [
      "[['1' '1' '1' '8' '0']\n",
      " ['4' '7' '4' '3' '1']\n",
      " ['4' '8' '8' '4' '1']]\n"
     ]
    }
   ],
   "source": [
    "print(array)"
   ]
  },
  {
   "cell_type": "code",
   "execution_count": 46,
   "id": "18257a3f-d685-4f44-9397-1a63ed598cc8",
   "metadata": {},
   "outputs": [],
   "source": [
    "frame_data = array2pand(array)"
   ]
  },
  {
   "cell_type": "code",
   "execution_count": 47,
   "id": "8ec97364-d318-4d4b-8ca3-21c2922d2161",
   "metadata": {},
   "outputs": [
    {
     "data": {
      "text/html": [
       "<div>\n",
       "<style scoped>\n",
       "    .dataframe tbody tr th:only-of-type {\n",
       "        vertical-align: middle;\n",
       "    }\n",
       "\n",
       "    .dataframe tbody tr th {\n",
       "        vertical-align: top;\n",
       "    }\n",
       "\n",
       "    .dataframe thead th {\n",
       "        text-align: right;\n",
       "    }\n",
       "</style>\n",
       "<table border=\"1\" class=\"dataframe\">\n",
       "  <thead>\n",
       "    <tr style=\"text-align: right;\">\n",
       "      <th></th>\n",
       "      <th>Shape 1</th>\n",
       "      <th>Shape 2</th>\n",
       "      <th>Shape 3</th>\n",
       "      <th>Shape 4</th>\n",
       "      <th>Shape 5</th>\n",
       "    </tr>\n",
       "  </thead>\n",
       "  <tbody>\n",
       "    <tr>\n",
       "      <th>Day 1</th>\n",
       "      <td>1</td>\n",
       "      <td>1</td>\n",
       "      <td>1</td>\n",
       "      <td>8</td>\n",
       "      <td>0</td>\n",
       "    </tr>\n",
       "    <tr>\n",
       "      <th>Day 2</th>\n",
       "      <td>4</td>\n",
       "      <td>7</td>\n",
       "      <td>4</td>\n",
       "      <td>3</td>\n",
       "      <td>1</td>\n",
       "    </tr>\n",
       "    <tr>\n",
       "      <th>Day 3</th>\n",
       "      <td>4</td>\n",
       "      <td>8</td>\n",
       "      <td>8</td>\n",
       "      <td>4</td>\n",
       "      <td>1</td>\n",
       "    </tr>\n",
       "  </tbody>\n",
       "</table>\n",
       "</div>"
      ],
      "text/plain": [
       "      Shape 1 Shape 2 Shape 3 Shape 4 Shape 5\n",
       "Day 1       1       1       1       8       0\n",
       "Day 2       4       7       4       3       1\n",
       "Day 3       4       8       8       4       1"
      ]
     },
     "execution_count": 47,
     "metadata": {},
     "output_type": "execute_result"
    }
   ],
   "source": [
    "frame_data"
   ]
  },
  {
   "cell_type": "code",
   "execution_count": 48,
   "id": "f222c157-ef47-41fe-8c3d-01fc6d06ebb0",
   "metadata": {},
   "outputs": [],
   "source": [
    "sum_shape_1, sum_shape_2, sum_shape_3 = sum_shape(frame_data)"
   ]
  },
  {
   "cell_type": "code",
   "execution_count": 49,
   "id": "ed6709db-62e3-4ad1-832f-c99976bc227d",
   "metadata": {},
   "outputs": [],
   "source": [
    "avg_shape_1, avg_shape_1, avg_shape_1 = avg_shape(frame_data)"
   ]
  },
  {
   "cell_type": "code",
   "execution_count": 51,
   "id": "344a04e8-9ff2-41b2-b64c-408dc9e838dd",
   "metadata": {},
   "outputs": [
    {
     "data": {
      "image/png": "[encoded data removed]",
      "text/plain": [
       "<Figure size 300x200 with 1 Axes>"
      ]
     },
     "metadata": {},
     "output_type": "display_data"
    }
   ],
   "source": [
    "plot_sum(sum_shape_1, sum_shape_2, sum_shape_3)"
   ]
  },
  {
   "cell_type": "code",
   "execution_count": 54,
   "id": "7ba23bd7-3ba9-456c-8a78-d4e23ef792a7",
   "metadata": {},
   "outputs": [
    {
     "data": {
      "image/png": "[encoded data removed]",
      "text/plain": [
       "<Figure size 300x200 with 1 Axes>"
      ]
     },
     "metadata": {},
     "output_type": "display_data"
    }
   ],
   "source": [
    "plot_avg(avg_shape_1, avg_shape_1, avg_shape_1)"
   ]
  },
  {
   "cell_type": "code",
   "execution_count": null,
   "id": "5c8dd386-1806-4888-b03f-b9c0716de972",
   "metadata": {},
   "outputs": [],
   "source": [
    "# Made By TAKING Programmer (Taha | Tajik) ;~)\n",
    "# --git-hub--> Tajik89"
   ]
  }
 ],
 "metadata": {
  "kernelspec": {
   "display_name": "Python 3 (ipykernel)",
   "language": "python",
   "name": "python3"
  },
  "language_info": {
   "codemirror_mode": {
    "name": "ipython",
    "version": 3
   },
   "file_extension": ".py",
   "mimetype": "text/x-python",
   "name": "python",
   "nbconvert_exporter": "python",
   "pygments_lexer": "ipython3",
   "version": "3.12.4"
  }
 },
 "nbformat": 4,
 "nbformat_minor": 5
}
